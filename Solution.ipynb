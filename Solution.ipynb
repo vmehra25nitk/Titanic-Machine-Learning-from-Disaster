{
 "cells": [
  {
   "cell_type": "code",
   "execution_count": 28,
   "metadata": {},
   "outputs": [],
   "source": [
    "import numpy as np\n",
    "import pandas as pd\n",
    "from sklearn.decomposition import PCA"
   ]
  },
  {
   "cell_type": "code",
   "execution_count": 29,
   "metadata": {},
   "outputs": [],
   "source": [
    "pca = PCA()"
   ]
  },
  {
   "cell_type": "code",
   "execution_count": 30,
   "metadata": {},
   "outputs": [],
   "source": [
    "from sklearn import datasets\n",
    "from sklearn import preprocessing"
   ]
  },
  {
   "cell_type": "code",
   "execution_count": 31,
   "metadata": {},
   "outputs": [],
   "source": [
    "from sklearn import tree\n",
    "from sklearn.model_selection import train_test_split \n",
    "from sklearn.model_selection import cross_val_score\n",
    "from sklearn.model_selection import KFold"
   ]
  },
  {
   "cell_type": "code",
   "execution_count": 32,
   "metadata": {},
   "outputs": [],
   "source": [
    "data_n = pd.read_csv('train.csv')"
   ]
  },
  {
   "cell_type": "code",
   "execution_count": 33,
   "metadata": {},
   "outputs": [],
   "source": [
    "from sklearn.linear_model import LogisticRegression"
   ]
  },
  {
   "cell_type": "code",
   "execution_count": 34,
   "metadata": {},
   "outputs": [],
   "source": [
    "train = pd.read_csv('train.csv')"
   ]
  },
  {
   "cell_type": "code",
   "execution_count": 35,
   "metadata": {},
   "outputs": [],
   "source": [
    "#train"
   ]
  },
  {
   "cell_type": "markdown",
   "metadata": {},
   "source": [
    "deleting PassengerId Name Ticket Cabin"
   ]
  },
  {
   "cell_type": "code",
   "execution_count": 36,
   "metadata": {},
   "outputs": [],
   "source": [
    "del train['PassengerId']\n",
    "del train['Name']\n",
    "del train['Ticket']\n",
    "del train['Cabin']"
   ]
  },
  {
   "cell_type": "code",
   "execution_count": 37,
   "metadata": {},
   "outputs": [],
   "source": [
    "def gender(sex):\n",
    "    if(sex == 'male'):\n",
    "        return 0\n",
    "    return 1"
   ]
  },
  {
   "cell_type": "code",
   "execution_count": 38,
   "metadata": {},
   "outputs": [],
   "source": [
    "def embarked(e):\n",
    "    if(e == 'S'):\n",
    "        return 2\n",
    "    if(e == 'C'):\n",
    "        return 1\n",
    "    return 3"
   ]
  },
  {
   "cell_type": "code",
   "execution_count": 39,
   "metadata": {},
   "outputs": [],
   "source": [
    "train['Sex'] = train['Sex'].apply(gender)\n",
    "train['Embarked'] = train['Embarked'].apply(embarked)\n",
    "train['nP'] = train['Pclass'] ** 3\n",
    "train['np'] = train['Parch'] ** 2\n",
    "train['ns'] = train['Sex'] ** 2"
   ]
  },
  {
   "cell_type": "code",
   "execution_count": 40,
   "metadata": {},
   "outputs": [],
   "source": [
    "avgAge = train['Age'].mean()"
   ]
  },
  {
   "cell_type": "code",
   "execution_count": 41,
   "metadata": {},
   "outputs": [],
   "source": [
    "train[\"Age\"] = train['Age'].fillna(avgAge)"
   ]
  },
  {
   "cell_type": "code",
   "execution_count": 42,
   "metadata": {},
   "outputs": [],
   "source": [
    "train_y = train['Survived']\n",
    "del train['Survived']\n",
    "train_x = train.values"
   ]
  },
  {
   "cell_type": "code",
   "execution_count": 43,
   "metadata": {},
   "outputs": [],
   "source": [
    "scaler = preprocessing.StandardScaler()"
   ]
  },
  {
   "cell_type": "code",
   "execution_count": 44,
   "metadata": {},
   "outputs": [
    {
     "data": {
      "text/plain": [
       "StandardScaler(copy=True, with_mean=True, with_std=True)"
      ]
     },
     "execution_count": 44,
     "metadata": {},
     "output_type": "execute_result"
    }
   ],
   "source": [
    "scaler.fit(train_x)"
   ]
  },
  {
   "cell_type": "code",
   "execution_count": 45,
   "metadata": {},
   "outputs": [
    {
     "data": {
      "text/plain": [
       "array([[-1.73882006e+00,  2.80039727e-01,  3.08747745e-01, ...,\n",
       "         1.97354583e-01, -3.37630519e-02, -7.17266603e-16],\n",
       "       [ 2.91169638e+00, -1.04932520e+00, -9.58658650e-01, ...,\n",
       "         3.17504553e-01, -1.16277123e-01,  3.31888233e-15],\n",
       "       [-2.84871011e-01,  1.03156437e+00, -2.12935577e+00, ...,\n",
       "         9.61366477e-02, -4.28747998e-02, -3.85599981e-17],\n",
       "       ...,\n",
       "       [ 8.88811234e-01,  2.91031553e+00, -3.28480925e-01, ...,\n",
       "        -6.50244674e-01, -6.41162776e-02, -2.49631823e-17],\n",
       "       [ 8.64288929e-01, -2.10293063e+00,  8.69125472e-01, ...,\n",
       "         2.09876356e-01, -1.76938275e-01, -3.71541016e-17],\n",
       "       [-2.15384051e+00,  4.86689931e-02, -1.66769818e-01, ...,\n",
       "        -4.25205390e-02, -4.93730689e-02,  2.57519542e-17]])"
      ]
     },
     "execution_count": 45,
     "metadata": {},
     "output_type": "execute_result"
    }
   ],
   "source": [
    "train_x = scaler.transform(train_x)\n",
    "train_x = pca.fit_transform(train_x)\n",
    "train_x"
   ]
  },
  {
   "cell_type": "code",
   "execution_count": 46,
   "metadata": {},
   "outputs": [
    {
     "data": {
      "text/plain": [
       "KNeighborsClassifier(algorithm='auto', leaf_size=30, metric='minkowski',\n",
       "           metric_params=None, n_jobs=1, n_neighbors=5, p=2,\n",
       "           weights='uniform')"
      ]
     },
     "execution_count": 46,
     "metadata": {},
     "output_type": "execute_result"
    }
   ],
   "source": [
    "from sklearn.neighbors import KNeighborsClassifier\n",
    "KNNClf = KNeighborsClassifier()\n",
    "KNNClf.fit(train_x, train_y)"
   ]
  },
  {
   "cell_type": "code",
   "execution_count": 47,
   "metadata": {},
   "outputs": [
    {
     "data": {
      "text/plain": [
       "DecisionTreeClassifier(class_weight=None, criterion='gini', max_depth=None,\n",
       "            max_features=None, max_leaf_nodes=None,\n",
       "            min_impurity_decrease=0.0, min_impurity_split=None,\n",
       "            min_samples_leaf=1, min_samples_split=2,\n",
       "            min_weight_fraction_leaf=0.0, presort=False, random_state=0,\n",
       "            splitter='best')"
      ]
     },
     "execution_count": 47,
     "metadata": {},
     "output_type": "execute_result"
    }
   ],
   "source": [
    "from sklearn import tree\n",
    "DecTreeClf = tree.DecisionTreeClassifier(random_state = 0)\n",
    "DecTreeClf.fit(train_x, train_y)"
   ]
  },
  {
   "cell_type": "code",
   "execution_count": 48,
   "metadata": {},
   "outputs": [
    {
     "data": {
      "text/plain": [
       "RandomForestClassifier(bootstrap=True, class_weight=None, criterion='gini',\n",
       "            max_depth=None, max_features='auto', max_leaf_nodes=None,\n",
       "            min_impurity_decrease=0.0, min_impurity_split=None,\n",
       "            min_samples_leaf=1, min_samples_split=2,\n",
       "            min_weight_fraction_leaf=0.0, n_estimators=10, n_jobs=1,\n",
       "            oob_score=False, random_state=0, verbose=0, warm_start=False)"
      ]
     },
     "execution_count": 48,
     "metadata": {},
     "output_type": "execute_result"
    }
   ],
   "source": [
    "from sklearn.ensemble import RandomForestClassifier\n",
    "RandForClf = RandomForestClassifier(random_state = 0)\n",
    "RandForClf.fit(train_x, train_y)"
   ]
  },
  {
   "cell_type": "code",
   "execution_count": 49,
   "metadata": {},
   "outputs": [
    {
     "data": {
      "text/plain": [
       "LogisticRegression(C=1.0, class_weight=None, dual=False, fit_intercept=True,\n",
       "          intercept_scaling=1, max_iter=100, multi_class='ovr', n_jobs=1,\n",
       "          penalty='l2', random_state=0, solver='liblinear', tol=0.0001,\n",
       "          verbose=0, warm_start=False)"
      ]
     },
     "execution_count": 49,
     "metadata": {},
     "output_type": "execute_result"
    }
   ],
   "source": [
    "model = LogisticRegression(random_state = 0)\n",
    "model.fit(train_x, train_y)"
   ]
  },
  {
   "cell_type": "code",
   "execution_count": 50,
   "metadata": {},
   "outputs": [
    {
     "data": {
      "text/plain": [
       "0.8024691358024691"
      ]
     },
     "execution_count": 50,
     "metadata": {},
     "output_type": "execute_result"
    }
   ],
   "source": [
    "model.score(train_x, train_y)"
   ]
  },
  {
   "cell_type": "code",
   "execution_count": 53,
   "metadata": {},
   "outputs": [
    {
     "name": "stdout",
     "output_type": "stream",
     "text": [
      "0.7957351290684626\n",
      "0.7856341189674523\n",
      "0.7485970819304154\n",
      "0.8136924803591471\n"
     ]
    }
   ],
   "source": [
    "print(sum(cross_val_score(model, train_x, train_y, cv = KFold(3, True, 1)))/3)\n",
    "print(sum(cross_val_score( RandForClf, train_x, train_y, cv = KFold(3, True, 1) ) ) /3)\n",
    "print(sum(cross_val_score( DecTreeClf, train_x, train_y, cv = KFold(3, True, 1) ) ) /3)\n",
    "print(sum(cross_val_score( KNNClf, train_x, train_y, cv = KFold(3, True, 1) ) ) /3)"
   ]
  },
  {
   "cell_type": "code",
   "execution_count": 54,
   "metadata": {},
   "outputs": [],
   "source": [
    "testing_data = pd.read_csv('test.csv')\n",
    "ids = testing_data['PassengerId']"
   ]
  },
  {
   "cell_type": "code",
   "execution_count": 55,
   "metadata": {},
   "outputs": [],
   "source": [
    "del testing_data['PassengerId']\n",
    "del testing_data['Name']\n",
    "del testing_data['Ticket']\n",
    "del testing_data['Cabin']"
   ]
  },
  {
   "cell_type": "code",
   "execution_count": 56,
   "metadata": {},
   "outputs": [],
   "source": [
    "testing_data['Sex'] = testing_data['Sex'].apply(gender)\n",
    "testing_data['Embarked'] = testing_data['Embarked'].apply(embarked)\n",
    "testing_data['nP'] = testing_data['Pclass'] ** 3\n",
    "testing_data['np'] = testing_data['Parch'] ** 2\n",
    "testing_data['ns'] = testing_data['Sex'] ** 2"
   ]
  },
  {
   "cell_type": "code",
   "execution_count": 57,
   "metadata": {},
   "outputs": [],
   "source": [
    "testing_data[\"Age\"] = testing_data['Age'].fillna(avgAge)"
   ]
  },
  {
   "cell_type": "code",
   "execution_count": 58,
   "metadata": {},
   "outputs": [],
   "source": [
    "testing_data['Fare'] = testing_data['Fare'].fillna(train['Fare'].mean())"
   ]
  },
  {
   "cell_type": "code",
   "execution_count": 59,
   "metadata": {},
   "outputs": [
    {
     "data": {
      "text/plain": [
       "array([[-2.13295520e+00, -1.11129712e-02, -1.57558566e-01, ...,\n",
       "        -6.17223945e-02, -4.61599419e-02,  1.70262686e-16],\n",
       "       [-2.74789161e-02,  8.18332994e-01, -1.84529714e+00, ...,\n",
       "         5.90529146e-02, -1.38712482e-02,  8.79499614e-17],\n",
       "       [-6.30409335e-01, -1.68671723e+00,  1.70375517e-01, ...,\n",
       "        -2.14129961e-01,  2.46440706e-01,  9.47418804e-16],\n",
       "       ...,\n",
       "       [-1.70053693e+00, -3.99357563e-01,  1.54729455e-01, ...,\n",
       "        -5.46509013e-02, -1.72616700e-02, -5.17819185e-17],\n",
       "       [-1.76507249e+00, -1.90997649e-01,  1.26452647e-01, ...,\n",
       "         1.34883074e-02, -2.71985998e-02, -2.73826523e-16],\n",
       "       [-7.60060443e-01,  4.79408439e-01,  1.31137648e+00, ...,\n",
       "        -4.82003188e-01, -1.29512009e-02, -4.95871128e-16]])"
      ]
     },
     "execution_count": 59,
     "metadata": {},
     "output_type": "execute_result"
    }
   ],
   "source": [
    "testing_data = scaler.transform(testing_data)\n",
    "testing_data = pca.transform(testing_data)\n",
    "testing_data"
   ]
  },
  {
   "cell_type": "code",
   "execution_count": 60,
   "metadata": {},
   "outputs": [],
   "source": [
    "solution = model.predict(testing_data)\n",
    "df = pd.DataFrame()\n",
    "df['PassengerId'] = ids\n",
    "df['Survived'] = solution\n",
    "np.savetxt('LogAns.csv', df, fmt = '%.0f', delimiter = ',', header = 'PassengerId, Survived')\n",
    "\n",
    "solution1 = KNNClf.predict(testing_data)\n",
    "df['PassengerId'] = ids\n",
    "df['Survived'] = solution1\n",
    "np.savetxt('KNNClfAns.csv', df, fmt = '%.0f', delimiter = ',', header = 'PassengerId, Survived')\n",
    "\n",
    "solution2 = DecTreeClf.predict(testing_data)\n",
    "df['PassengerId'] = ids\n",
    "df['Survived'] = solution2\n",
    "np.savetxt('DecTreeClf.csv', df, fmt = '%.0f', delimiter = ',', header = 'PassengerId, Survived')\n",
    "\n",
    "solution3 = RandForClf.predict(testing_data)\n",
    "df['PassengerId'] = ids\n",
    "df['Survived'] = solution3\n",
    "np.savetxt('RandForClf.csv', df, fmt = '%.0f', delimiter = ',', header = 'PassengerId, Survived')"
   ]
  },
  {
   "cell_type": "code",
   "execution_count": 61,
   "metadata": {},
   "outputs": [],
   "source": [
    "solution = model.predict(testing_data)\n",
    "\n",
    "#print(solution)"
   ]
  },
  {
   "cell_type": "code",
   "execution_count": 62,
   "metadata": {},
   "outputs": [],
   "source": [
    "df = pd.DataFrame()"
   ]
  },
  {
   "cell_type": "code",
   "execution_count": 63,
   "metadata": {},
   "outputs": [],
   "source": [
    "df['PassengerId'] = ids\n",
    "df['Survived'] = solution"
   ]
  },
  {
   "cell_type": "code",
   "execution_count": 64,
   "metadata": {},
   "outputs": [],
   "source": [
    "np.savetxt('ans.csv', df, fmt = '%.0f', delimiter = ',', header = 'PassengerId, Survived')"
   ]
  },
  {
   "cell_type": "markdown",
   "metadata": {},
   "source": [
    "On Comparison from Kaggle results,\n",
    "Random Forest gives the best results."
   ]
  }
 ],
 "metadata": {
  "kernelspec": {
   "display_name": "Python 3",
   "language": "python",
   "name": "python3"
  },
  "language_info": {
   "codemirror_mode": {
    "name": "ipython",
    "version": 3
   },
   "file_extension": ".py",
   "mimetype": "text/x-python",
   "name": "python",
   "nbconvert_exporter": "python",
   "pygments_lexer": "ipython3",
   "version": "3.6.5"
  }
 },
 "nbformat": 4,
 "nbformat_minor": 2
}
